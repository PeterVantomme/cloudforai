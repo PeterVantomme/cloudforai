{
  "nbformat": 4,
  "nbformat_minor": 0,
  "metadata": {
    "colab": {
      "name": "Simple_Preprocessing.ipynb",
      "provenance": [],
      "collapsed_sections": []
    },
    "kernelspec": {
      "name": "python3",
      "display_name": "Python 3"
    },
    "language_info": {
      "name": "python"
    }
  },
  "cells": [
    {
      "cell_type": "code",
      "execution_count": 16,
      "metadata": {
        "id": "IQ3F-Q5qNAZL"
      },
      "outputs": [],
      "source": [
        "import pandas as pd\n",
        "import scipy.stats as stats\n",
        "from sklearn.model_selection import train_test_split\n",
        "import matplotlib.pyplot as plt\n",
        "import numpy as np\n",
        "\n",
        "def split(data,prefix=\"\"):\n",
        "  data_train, data_test = train_test_split(data, test_size=0.33, random_state=1337)\n",
        "  data_train.to_csv(f\"{prefix}_train.csv\", index=False)\n",
        "  data_test.to_csv(f\"{prefix}_test.csv\", index=False)\n",
        "\n",
        "data = pd.read_csv(\"data.csv\")\n",
        "split(data,\"raw\")"
      ]
    },
    {
      "cell_type": "code",
      "source": [
        "#@title \n",
        "#@markdown Boxplot van SalesQuantity waarden voor het verwijderen van\n",
        "#@markdown uitschieters.\n",
        "fig, ax = plt.subplots()\n",
        "ax.boxplot(data.loc[:,\"SalesQuantity\"])\n",
        "plt.show()"
      ],
      "metadata": {
        "colab": {
          "base_uri": "https://localhost:8080/",
          "height": 267
        },
        "cellView": "form",
        "id": "TvlrKZvgOa6x",
        "outputId": "593d8d4f-cefc-4fe7-9969-e1a17c402840"
      },
      "execution_count": 17,
      "outputs": [
        {
          "output_type": "display_data",
          "data": {
            "text/plain": [
              "<Figure size 432x288 with 1 Axes>"
            ],
            "image/png": "[encoded data removed]"
          },
          "metadata": {
            "needs_background": "light"
          }
        }
      ]
    },
    {
      "cell_type": "code",
      "source": [
        "#@title \n",
        "#@markdown Boxplot van SalesQuantity waarden na het\n",
        "#@markdown verwijderen van uitschieters. Waarden\n",
        "#@markdown liggen dichter op elkaar. Uitschieters hebben\n",
        "#@markdown nu minder invloed op het model.\n",
        "data_sq = data[\"SalesQuantity\"].reset_index()\n",
        "data_sq_filtered = data_sq[(np.abs(stats.zscore(data_sq)) < 3).all(axis=1)]\n",
        "fig, ax = plt.subplots()\n",
        "ax.boxplot(data_sq_filtered.loc[:,\"SalesQuantity\"])\n",
        "plt.show()"
      ],
      "metadata": {
        "colab": {
          "base_uri": "https://localhost:8080/",
          "height": 265
        },
        "cellView": "form",
        "id": "yVACjSmiNPQm",
        "outputId": "90ea7ef7-1d1d-4019-ea34-9894702f3cf5"
      },
      "execution_count": 23,
      "outputs": [
        {
          "output_type": "display_data",
          "data": {
            "text/plain": [
              "<Figure size 432x288 with 1 Axes>"
            ],
            "image/png": "[encoded data removed]"
          },
          "metadata": {
            "needs_background": "light"
          }
        }
      ]
    },
    {
      "cell_type": "code",
      "source": [
        "data_filtered = data.loc[data.index.isin(data_sq_filtered.index.values),:]\n",
        "data_filtered.to_csv(\"data_filtered.csv\",index=False)"
      ],
      "metadata": {
        "id": "6Xtf-dnTNWHu"
      },
      "execution_count": 19,
      "outputs": []
    },
    {
      "cell_type": "code",
      "source": [
        "split(data_filtered, \"clean\")"
      ],
      "metadata": {
        "id": "LXu_QohZNe3r"
      },
      "execution_count": 20,
      "outputs": []
    }
  ]
}