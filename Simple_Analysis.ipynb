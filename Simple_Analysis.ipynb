{
  "cells": [
    {
      "cell_type": "code",
      "source": [
        "import pandas as pd\n",
        "import pandas_profiling as pdp\n",
        "import matplotlib.pyplot as plt\n",
        "import numpy as np\n",
        "\n",
        "dataset = data = pd.read_csv(\"start_data_small.csv\")\n",
        "columns = dataset.columns"
      ],
      "outputs": [],
      "execution_count": 22,
      "metadata": {
        "gather": {
          "logged": 1654954785174
        },
        "id": "M_ymd1iNj-qo"
      }
    },
    {
      "cell_type": "code",
      "source": [
        "#@title Basisinformatie dataset\n",
        "#@markdown Zoals hieronder te zien is zijn er geen null \n",
        "#@markdown waarden aanwezig in de dataset. \n",
        "#@markdown - SalesDate is een datum\n",
        "#@markdown - SalesQuantity is een int, die de hoeveelheid\n",
        "#@markdown verkochte goederen voorstelt.\n",
        "#@markdown - Overige zijn nominale waarden die verwijzen\n",
        "#@markdown naar een id die de winkel of het product\n",
        "#@markdown beschrijft.\n",
        "dataset.info()"
      ],
      "outputs": [
        {
          "output_type": "stream",
          "name": "stdout",
          "text": [
            "<class 'pandas.core.frame.DataFrame'>\n",
            "RangeIndex: 163328 entries, 0 to 163327\n",
            "Data columns (total 6 columns):\n",
            " #   Column               Non-Null Count   Dtype \n",
            "---  ------               --------------   ----- \n",
            " 0   StoreCode            163328 non-null  int64 \n",
            " 1   StoreCategoryCode    163328 non-null  int64 \n",
            " 2   ProductId            163328 non-null  int64 \n",
            " 3   ProductCategoryCode  163328 non-null  int64 \n",
            " 4   SalesQuantity        163328 non-null  int64 \n",
            " 5   SalesDate            163328 non-null  object\n",
            "dtypes: int64(5), object(1)\n",
            "memory usage: 7.5+ MB\n"
          ]
        }
      ],
      "execution_count": 17,
      "metadata": {
        "jupyter": {
          "source_hidden": false,
          "outputs_hidden": false
        },
        "nteract": {
          "transient": {
            "deleting": false
          }
        },
        "gather": {
          "logged": 1654954785338
        },
        "colab": {
          "base_uri": "https://localhost:8080/"
        },
        "id": "zXN9R1Zzj-qs",
        "outputId": "6558efe0-e620-4c9a-a56b-8fb72c6e9ff9",
        "cellView": "form"
      }
    },
    {
      "cell_type": "code",
      "source": [
        "#@title Beschrijving van de dataset\n",
        "#@markdown Bij salesquantity valt duidelijk te zien dat de\n",
        "#@markdown maximum en minimumwaarden uitschieters\n",
        "#@markdown zijn, deze zullen we dus verwijderen\n",
        "#@markdown alvorens de dataset te gebruiken om te\n",
        "#@markdown trainen. We merken ook dat 75% van de\n",
        "#@markdown datapunten minder dan 5 hebben als\n",
        "#@markdown Salesquantity.\n",
        "#@markdown De overige velden zijn nominale datapunten,\n",
        "#@markdown wat betekent dat er geen nuttige conclusies\n",
        "#@markdown uit deze beschrijving kunnen worden\n",
        "#@markdown gemaakt.\n",
        "dataset.describe()"
      ],
      "metadata": {
        "colab": {
          "base_uri": "https://localhost:8080/",
          "height": 300
        },
        "cellView": "form",
        "id": "Awb1ykvOBNzw",
        "outputId": "ef00c734-7347-4b24-fb88-ff46f8772064"
      },
      "execution_count": 18,
      "outputs": [
        {
          "output_type": "execute_result",
          "data": {
            "text/plain": [
              "           StoreCode  StoreCategoryCode      ProductId  ProductCategoryCode  \\\n",
              "count  163328.000000      163328.000000  163328.000000        163328.000000   \n",
              "mean      580.175696           1.108028    5564.370684           420.370849   \n",
              "std       260.585765           0.310417    3006.677181           161.577364   \n",
              "min       131.000000           1.000000      44.000000           203.000000   \n",
              "25%       410.000000           1.000000    4161.000000           270.000000   \n",
              "50%       673.000000           1.000000    4859.000000           518.000000   \n",
              "75%       825.000000           1.000000    8654.000000           518.000000   \n",
              "max       951.000000           2.000000    9066.000000           723.000000   \n",
              "\n",
              "       SalesQuantity  \n",
              "count  163328.000000  \n",
              "mean        4.205978  \n",
              "std        23.501194  \n",
              "min       -44.000000  \n",
              "25%         2.000000  \n",
              "50%         3.000000  \n",
              "75%         5.000000  \n",
              "max      7700.000000  "
            ],
            "text/html": [
              "\n",
              "  <div id=\"df-8e0e6206-d61f-41a6-b84d-c4b7d3490668\">\n",
              "    <div class=\"colab-df-container\">\n",
              "      <div>\n",
              "<style scoped>\n",
              "    .dataframe tbody tr th:only-of-type {\n",
              "        vertical-align: middle;\n",
              "    }\n",
              "\n",
              "    .dataframe tbody tr th {\n",
              "        vertical-align: top;\n",
              "    }\n",
              "\n",
              "    .dataframe thead th {\n",
              "        text-align: right;\n",
              "    }\n",
              "</style>\n",
              "<table border=\"1\" class=\"dataframe\">\n",
              "  <thead>\n",
              "    <tr style=\"text-align: right;\">\n",
              "      <th></th>\n",
              "      <th>StoreCode</th>\n",
              "      <th>StoreCategoryCode</th>\n",
              "      <th>ProductId</th>\n",
              "      <th>ProductCategoryCode</th>\n",
              "      <th>SalesQuantity</th>\n",
              "    </tr>\n",
              "  </thead>\n",
              "  <tbody>\n",
              "    <tr>\n",
              "      <th>count</th>\n",
              "      <td>163328.000000</td>\n",
              "      <td>163328.000000</td>\n",
              "      <td>163328.000000</td>\n",
              "      <td>163328.000000</td>\n",
              "      <td>163328.000000</td>\n",
              "    </tr>\n",
              "    <tr>\n",
              "      <th>mean</th>\n",
              "      <td>580.175696</td>\n",
              "      <td>1.108028</td>\n",
              "      <td>5564.370684</td>\n",
              "      <td>420.370849</td>\n",
              "      <td>4.205978</td>\n",
              "    </tr>\n",
              "    <tr>\n",
              "      <th>std</th>\n",
              "      <td>260.585765</td>\n",
              "      <td>0.310417</td>\n",
              "      <td>3006.677181</td>\n",
              "      <td>161.577364</td>\n",
              "      <td>23.501194</td>\n",
              "    </tr>\n",
              "    <tr>\n",
              "      <th>min</th>\n",
              "      <td>131.000000</td>\n",
              "      <td>1.000000</td>\n",
              "      <td>44.000000</td>\n",
              "      <td>203.000000</td>\n",
              "      <td>-44.000000</td>\n",
              "    </tr>\n",
              "    <tr>\n",
              "      <th>25%</th>\n",
              "      <td>410.000000</td>\n",
              "      <td>1.000000</td>\n",
              "      <td>4161.000000</td>\n",
              "      <td>270.000000</td>\n",
              "      <td>2.000000</td>\n",
              "    </tr>\n",
              "    <tr>\n",
              "      <th>50%</th>\n",
              "      <td>673.000000</td>\n",
              "      <td>1.000000</td>\n",
              "      <td>4859.000000</td>\n",
              "      <td>518.000000</td>\n",
              "      <td>3.000000</td>\n",
              "    </tr>\n",
              "    <tr>\n",
              "      <th>75%</th>\n",
              "      <td>825.000000</td>\n",
              "      <td>1.000000</td>\n",
              "      <td>8654.000000</td>\n",
              "      <td>518.000000</td>\n",
              "      <td>5.000000</td>\n",
              "    </tr>\n",
              "    <tr>\n",
              "      <th>max</th>\n",
              "      <td>951.000000</td>\n",
              "      <td>2.000000</td>\n",
              "      <td>9066.000000</td>\n",
              "      <td>723.000000</td>\n",
              "      <td>7700.000000</td>\n",
              "    </tr>\n",
              "  </tbody>\n",
              "</table>\n",
              "</div>\n",
              "      <button class=\"colab-df-convert\" onclick=\"convertToInteractive('df-8e0e6206-d61f-41a6-b84d-c4b7d3490668')\"\n",
              "              title=\"Convert this dataframe to an interactive table.\"\n",
              "              style=\"display:none;\">\n",
              "        \n",
              "  <svg xmlns=\"http://www.w3.org/2000/svg\" height=\"24px\"viewBox=\"0 0 24 24\"\n",
              "       width=\"24px\">\n",
              "    <path d=\"M0 0h24v24H0V0z\" fill=\"none\"/>\n",
              "    <path d=\"M18.56 5.44l.94 2.06.94-2.06 2.06-.94-2.06-.94-.94-2.06-.94 2.06-2.06.94zm-11 1L8.5 8.5l.94-2.06 2.06-.94-2.06-.94L8.5 2.5l-.94 2.06-2.06.94zm10 10l.94 2.06.94-2.06 2.06-.94-2.06-.94-.94-2.06-.94 2.06-2.06.94z\"/><path d=\"M17.41 7.96l-1.37-1.37c-.4-.4-.92-.59-1.43-.59-.52 0-1.04.2-1.43.59L10.3 9.45l-7.72 7.72c-.78.78-.78 2.05 0 2.83L4 21.41c.39.39.9.59 1.41.59.51 0 1.02-.2 1.41-.59l7.78-7.78 2.81-2.81c.8-.78.8-2.07 0-2.86zM5.41 20L4 18.59l7.72-7.72 1.47 1.35L5.41 20z\"/>\n",
              "  </svg>\n",
              "      </button>\n",
              "      \n",
              "  <style>\n",
              "    .colab-df-container {\n",
              "      display:flex;\n",
              "      flex-wrap:wrap;\n",
              "      gap: 12px;\n",
              "    }\n",
              "\n",
              "    .colab-df-convert {\n",
              "      background-color: #E8F0FE;\n",
              "      border: none;\n",
              "      border-radius: 50%;\n",
              "      cursor: pointer;\n",
              "      display: none;\n",
              "      fill: #1967D2;\n",
              "      height: 32px;\n",
              "      padding: 0 0 0 0;\n",
              "      width: 32px;\n",
              "    }\n",
              "\n",
              "    .colab-df-convert:hover {\n",
              "      background-color: #E2EBFA;\n",
              "      box-shadow: 0px 1px 2px rgba(60, 64, 67, 0.3), 0px 1px 3px 1px rgba(60, 64, 67, 0.15);\n",
              "      fill: #174EA6;\n",
              "    }\n",
              "\n",
              "    [theme=dark] .colab-df-convert {\n",
              "      background-color: #3B4455;\n",
              "      fill: #D2E3FC;\n",
              "    }\n",
              "\n",
              "    [theme=dark] .colab-df-convert:hover {\n",
              "      background-color: #434B5C;\n",
              "      box-shadow: 0px 1px 3px 1px rgba(0, 0, 0, 0.15);\n",
              "      filter: drop-shadow(0px 1px 2px rgba(0, 0, 0, 0.3));\n",
              "      fill: #FFFFFF;\n",
              "    }\n",
              "  </style>\n",
              "\n",
              "      <script>\n",
              "        const buttonEl =\n",
              "          document.querySelector('#df-8e0e6206-d61f-41a6-b84d-c4b7d3490668 button.colab-df-convert');\n",
              "        buttonEl.style.display =\n",
              "          google.colab.kernel.accessAllowed ? 'block' : 'none';\n",
              "\n",
              "        async function convertToInteractive(key) {\n",
              "          const element = document.querySelector('#df-8e0e6206-d61f-41a6-b84d-c4b7d3490668');\n",
              "          const dataTable =\n",
              "            await google.colab.kernel.invokeFunction('convertToInteractive',\n",
              "                                                     [key], {});\n",
              "          if (!dataTable) return;\n",
              "\n",
              "          const docLinkHtml = 'Like what you see? Visit the ' +\n",
              "            '<a target=\"_blank\" href=https://colab.research.google.com/notebooks/data_table.ipynb>data table notebook</a>'\n",
              "            + ' to learn more about interactive tables.';\n",
              "          element.innerHTML = '';\n",
              "          dataTable['output_type'] = 'display_data';\n",
              "          await google.colab.output.renderOutput(dataTable, element);\n",
              "          const docLink = document.createElement('div');\n",
              "          docLink.innerHTML = docLinkHtml;\n",
              "          element.appendChild(docLink);\n",
              "        }\n",
              "      </script>\n",
              "    </div>\n",
              "  </div>\n",
              "  "
            ]
          },
          "metadata": {},
          "execution_count": 18
        }
      ]
    },
    {
      "cell_type": "markdown",
      "source": [
        "### Sales per productId"
      ],
      "metadata": {
        "nteract": {
          "transient": {
            "deleting": false
          }
        },
        "id": "HiSXm4ifj-qw"
      }
    },
    {
      "cell_type": "code",
      "source": [
        "#@title Salesquantity per productID\n",
        "#@markdown In onderstaande grafiek en tabel valt te zien\n",
        "#@markdown dat productID 7983 de meeste sales heeft.\n",
        "#@markdown Dit is meer dan het dubbele van de tweede\n",
        "#@markdown plaats.\n",
        "product_ids = dataset[\"ProductId\"].unique()\n",
        "product_sales_dict = {}\n",
        "for id in product_ids:\n",
        "    product_sales_dict[id] = sum(dataset.loc[dataset[\"ProductId\"]==id,\"SalesQuantity\"])\n",
        "product_sales = pd.DataFrame.from_dict(product_sales_dict, orient=\"index\")\n",
        "product_sales.columns = [\"SalesQuantity\"]\n",
        "product_sales = product_sales.sort_values(by=\"SalesQuantity\").reset_index()\n",
        "product_sales.columns = [\"ProductId\",\"SalesQuantity\"]\n",
        "product_sales_no_id = product_sales.copy()\n",
        "product_sales_no_id.index = product_sales_no_id.loc[:,\"ProductId\"]\n",
        "product_sales_no_id.drop(\"ProductId\", axis=1, inplace=True)\n",
        "\n",
        "product_id = product_sales.loc[:,\"ProductId\"].values\n",
        "product_id = [str(item) for item in product_id.astype(str)]\n",
        "product_quantity = product_sales.loc[:,\"SalesQuantity\"].values\n",
        "\n",
        "fig = plt.figure(figsize=(20,12))\n",
        "ax1 = fig.add_subplot(121)\n",
        "ax1.barh(product_id,product_quantity)\n",
        "ax1.xlabel = (\"Sales Quantity (x 1M)\")\n",
        "ax1.ylabel = (\"Product Id\")\n",
        "bbox = [0, 0, 1, 1]\n",
        "ax2 = fig.add_subplot(122)\n",
        "ax2.axis('off')\n",
        "fig.title = \"Sales quantity by ProducID\"\n",
        "mpl_table = ax2.table(cellText=product_sales_no_id.values, rowLabels=product_sales_no_id.index, bbox=bbox, colLabels=[\"SalesQuantity\"])\n",
        "plt.show()"
      ],
      "outputs": [
        {
          "output_type": "display_data",
          "data": {
            "text/plain": [
              "<Figure size 1440x864 with 2 Axes>"
            ],
            "image/png": "[encoded data removed]"
          },
          "metadata": {
            "needs_background": "light"
          }
        }
      ],
      "execution_count": 23,
      "metadata": {
        "jupyter": {
          "source_hidden": false,
          "outputs_hidden": false
        },
        "nteract": {
          "transient": {
            "deleting": false
          }
        },
        "gather": {
          "logged": 1654954785909
        },
        "colab": {
          "base_uri": "https://localhost:8080/",
          "height": 700
        },
        "id": "JK71N8Cgj-qw",
        "outputId": "0e561ec5-57eb-4c3c-fa7c-7e66fc497c68",
        "cellView": "form"
      }
    },
    {
      "cell_type": "code",
      "source": [
        "#@title Grafiek rond frequentie van aantal binnen SalesQuantity { vertical-output: true, display-mode: \"form\" }\n",
        "#@markdown Hieronder is te zien dat 1 tem 5 de vaakst\n",
        "#@markdown voorkomende waarden zijn en we dus\n",
        "#@markdown moeten zorgen dat het model deze het best\n",
        "#@markdown kan voorspellen.\n",
        "sales_quantity_freq = data.groupby(\"SalesQuantity\").count().iloc[:,:1]\n",
        "sales_quantity_freq.columns = [\"Frequency\"]\n",
        "sales_quantity_freq = sales_quantity_freq[30:50]\n",
        "sales_quantity_freq.plot.bar()\n",
        "fig.show()"
      ],
      "outputs": [
        {
          "output_type": "display_data",
          "data": {
            "text/plain": [
              "<Figure size 432x288 with 1 Axes>"
            ],
            "image/png": "[encoded data removed]"
          },
          "metadata": {
            "needs_background": "light"
          }
        }
      ],
      "execution_count": 52,
      "metadata": {
        "jupyter": {
          "source_hidden": false,
          "outputs_hidden": false
        },
        "nteract": {
          "transient": {
            "deleting": false
          }
        },
        "gather": {
          "logged": 1654954786261
        },
        "colab": {
          "base_uri": "https://localhost:8080/",
          "height": 282
        },
        "id": "VzA7NXHFj-qy",
        "outputId": "faa3a4e3-7f2e-43fc-bcc7-5edaa1086a58"
      }
    }
  ],
  "metadata": {
    "kernelspec": {
      "name": "python38-azureml",
      "language": "python",
      "display_name": "Python 3.8 - AzureML"
    },
    "language_info": {
      "name": "python",
      "version": "3.8.5",
      "mimetype": "text/x-python",
      "codemirror_mode": {
        "name": "ipython",
        "version": 3
      },
      "pygments_lexer": "ipython3",
      "nbconvert_exporter": "python",
      "file_extension": ".py"
    },
    "kernel_info": {
      "name": "python38-azureml"
    },
    "microsoft": {
      "host": {
        "AzureML": {
          "notebookHasBeenCompleted": true
        }
      }
    },
    "nteract": {
      "version": "nteract-front-end@1.0.0"
    },
    "colab": {
      "name": "Simple_Analysis.ipynb",
      "provenance": [],
      "collapsed_sections": []
    }
  },
  "nbformat": 4,
  "nbformat_minor": 0
}